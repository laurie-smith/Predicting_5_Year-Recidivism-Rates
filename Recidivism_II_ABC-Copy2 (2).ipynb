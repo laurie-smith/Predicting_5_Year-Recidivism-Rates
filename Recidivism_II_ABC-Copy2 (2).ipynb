{
 "cells": [
  {
   "cell_type": "code",
   "execution_count": 2,
   "id": "6700ea12",
   "metadata": {
    "_cell_guid": "b1076dfc-b9ad-4769-8c92-a6c4dae69d19",
    "_uuid": "8f2839f25d086af736a60e9eeb907d3b93b6e0e5",
    "execution": {
     "iopub.execute_input": "2022-04-26T02:27:18.992017Z",
     "iopub.status.busy": "2022-04-26T02:27:18.991624Z",
     "iopub.status.idle": "2022-04-26T02:27:19.018211Z",
     "shell.execute_reply": "2022-04-26T02:27:19.017192Z",
     "shell.execute_reply.started": "2022-04-26T02:27:18.991917Z"
    }
   },
   "outputs": [
    {
     "data": {
      "text/plain": [
       "'C:\\\\Users\\\\gowgi\\\\Desktop\\\\pandas'"
      ]
     },
     "execution_count": 2,
     "metadata": {},
     "output_type": "execute_result"
    }
   ],
   "source": [
    "#PREDICTING FIVE YEAR RECDIVISM RATES\n",
    "\n",
    "# This Python 3 environment comes with many helpful analytics libraries installed\n",
    "# It is defined by the kaggle/python Docker image: https://github.com/kaggle/docker-python\n",
    "# For example, here's several helpful packages to load\n",
    "\n",
    "import numpy as np # linear algebra\n",
    "import pandas as pd # data processing, CSV file I/O (e.g. pd.read_csv)\n",
    "\n",
    "# Input data files are available in the read-only \"../input/\" directory\n",
    "# For example, running this (by clicking run or pressing Shift+Enter) will list all files under the input directory\n",
    "\n",
    "#import os\n",
    "#for dirname, _, filenames in os.walk('/kaggle/input'):\n",
    "#    for filename in filenames:\n",
    "#        print(os.path.join(dirname, filename))\n",
    "\n",
    "import os\n",
    "\n",
    "# Change the working directory\n",
    "os.chdir(\"C:\\\\Users\\gowgi\\Desktop\\pandas\")\n",
    "os.getcwd()\n",
    "\n",
    "\n",
    "# You can write up to 20GB to the current directory (/kaggle/working/) that gets preserved as output when you create a version using \"Save & Run All\" \n",
    "# You can also write temporary files to /kaggle/temp/, but they won't be saved outside of the current session"
   ]
  },
  {
   "cell_type": "code",
   "execution_count": 3,
   "id": "858c2c32",
   "metadata": {},
   "outputs": [],
   "source": [
    "test = pd.read_csv(\"test.csv\")\n",
    "train = pd.read_csv(\"NIJ_s_Recidivism_Challenge_Training_Dataset.csv\")\n",
    "submission_sample = pd.read_csv(\"submission_sample.csv\")"
   ]
  },
  {
   "cell_type": "code",
   "execution_count": 4,
   "id": "51cdb3f2",
   "metadata": {},
   "outputs": [
    {
     "data": {
      "text/html": [
       "<div>\n",
       "<style scoped>\n",
       "    .dataframe tbody tr th:only-of-type {\n",
       "        vertical-align: middle;\n",
       "    }\n",
       "\n",
       "    .dataframe tbody tr th {\n",
       "        vertical-align: top;\n",
       "    }\n",
       "\n",
       "    .dataframe thead th {\n",
       "        text-align: right;\n",
       "    }\n",
       "</style>\n",
       "<table border=\"1\" class=\"dataframe\">\n",
       "  <thead>\n",
       "    <tr style=\"text-align: right;\">\n",
       "      <th></th>\n",
       "      <th>ID</th>\n",
       "      <th>Gender</th>\n",
       "      <th>Race</th>\n",
       "      <th>Age_at_Release</th>\n",
       "      <th>Residence_PUMA</th>\n",
       "      <th>Gang_Affiliated</th>\n",
       "      <th>Supervision_Risk_Score_First</th>\n",
       "      <th>Supervision_Level_First</th>\n",
       "      <th>Education_Level</th>\n",
       "      <th>Dependents</th>\n",
       "      <th>...</th>\n",
       "      <th>DrugTests_Cocaine_Positive</th>\n",
       "      <th>DrugTests_Meth_Positive</th>\n",
       "      <th>DrugTests_Other_Positive</th>\n",
       "      <th>Percent_Days_Employed</th>\n",
       "      <th>Jobs_Per_Year</th>\n",
       "      <th>Employment_Exempt</th>\n",
       "      <th>Recidivism_Within_3years</th>\n",
       "      <th>Recidivism_Arrest_Year1</th>\n",
       "      <th>Recidivism_Arrest_Year2</th>\n",
       "      <th>Recidivism_Arrest_Year3</th>\n",
       "    </tr>\n",
       "  </thead>\n",
       "  <tbody>\n",
       "    <tr>\n",
       "      <th>0</th>\n",
       "      <td>1</td>\n",
       "      <td>M</td>\n",
       "      <td>BLACK</td>\n",
       "      <td>43-47</td>\n",
       "      <td>16</td>\n",
       "      <td>False</td>\n",
       "      <td>3.0</td>\n",
       "      <td>Standard</td>\n",
       "      <td>At least some college</td>\n",
       "      <td>3 or more</td>\n",
       "      <td>...</td>\n",
       "      <td>0.0</td>\n",
       "      <td>0.000000</td>\n",
       "      <td>0.0</td>\n",
       "      <td>0.488562</td>\n",
       "      <td>0.447610</td>\n",
       "      <td>False</td>\n",
       "      <td>False</td>\n",
       "      <td>False</td>\n",
       "      <td>False</td>\n",
       "      <td>False</td>\n",
       "    </tr>\n",
       "    <tr>\n",
       "      <th>1</th>\n",
       "      <td>2</td>\n",
       "      <td>M</td>\n",
       "      <td>BLACK</td>\n",
       "      <td>33-37</td>\n",
       "      <td>16</td>\n",
       "      <td>False</td>\n",
       "      <td>6.0</td>\n",
       "      <td>Specialized</td>\n",
       "      <td>Less than HS diploma</td>\n",
       "      <td>1</td>\n",
       "      <td>...</td>\n",
       "      <td>0.0</td>\n",
       "      <td>0.000000</td>\n",
       "      <td>0.0</td>\n",
       "      <td>0.425234</td>\n",
       "      <td>2.000000</td>\n",
       "      <td>False</td>\n",
       "      <td>True</td>\n",
       "      <td>False</td>\n",
       "      <td>False</td>\n",
       "      <td>True</td>\n",
       "    </tr>\n",
       "    <tr>\n",
       "      <th>2</th>\n",
       "      <td>3</td>\n",
       "      <td>M</td>\n",
       "      <td>BLACK</td>\n",
       "      <td>48 or older</td>\n",
       "      <td>24</td>\n",
       "      <td>False</td>\n",
       "      <td>7.0</td>\n",
       "      <td>High</td>\n",
       "      <td>At least some college</td>\n",
       "      <td>3 or more</td>\n",
       "      <td>...</td>\n",
       "      <td>0.0</td>\n",
       "      <td>0.166667</td>\n",
       "      <td>0.0</td>\n",
       "      <td>0.000000</td>\n",
       "      <td>0.000000</td>\n",
       "      <td>False</td>\n",
       "      <td>True</td>\n",
       "      <td>False</td>\n",
       "      <td>True</td>\n",
       "      <td>False</td>\n",
       "    </tr>\n",
       "    <tr>\n",
       "      <th>3</th>\n",
       "      <td>4</td>\n",
       "      <td>M</td>\n",
       "      <td>WHITE</td>\n",
       "      <td>38-42</td>\n",
       "      <td>16</td>\n",
       "      <td>False</td>\n",
       "      <td>7.0</td>\n",
       "      <td>High</td>\n",
       "      <td>Less than HS diploma</td>\n",
       "      <td>1</td>\n",
       "      <td>...</td>\n",
       "      <td>0.0</td>\n",
       "      <td>0.000000</td>\n",
       "      <td>0.0</td>\n",
       "      <td>1.000000</td>\n",
       "      <td>0.718996</td>\n",
       "      <td>False</td>\n",
       "      <td>False</td>\n",
       "      <td>False</td>\n",
       "      <td>False</td>\n",
       "      <td>False</td>\n",
       "    </tr>\n",
       "    <tr>\n",
       "      <th>4</th>\n",
       "      <td>5</td>\n",
       "      <td>M</td>\n",
       "      <td>WHITE</td>\n",
       "      <td>33-37</td>\n",
       "      <td>16</td>\n",
       "      <td>False</td>\n",
       "      <td>4.0</td>\n",
       "      <td>Specialized</td>\n",
       "      <td>Less than HS diploma</td>\n",
       "      <td>3 or more</td>\n",
       "      <td>...</td>\n",
       "      <td>0.0</td>\n",
       "      <td>0.058824</td>\n",
       "      <td>0.0</td>\n",
       "      <td>0.203562</td>\n",
       "      <td>0.929389</td>\n",
       "      <td>False</td>\n",
       "      <td>True</td>\n",
       "      <td>True</td>\n",
       "      <td>False</td>\n",
       "      <td>False</td>\n",
       "    </tr>\n",
       "  </tbody>\n",
       "</table>\n",
       "<p>5 rows × 53 columns</p>\n",
       "</div>"
      ],
      "text/plain": [
       "   ID Gender   Race Age_at_Release  Residence_PUMA Gang_Affiliated  \\\n",
       "0   1      M  BLACK          43-47              16           False   \n",
       "1   2      M  BLACK          33-37              16           False   \n",
       "2   3      M  BLACK    48 or older              24           False   \n",
       "3   4      M  WHITE          38-42              16           False   \n",
       "4   5      M  WHITE          33-37              16           False   \n",
       "\n",
       "   Supervision_Risk_Score_First Supervision_Level_First  \\\n",
       "0                           3.0                Standard   \n",
       "1                           6.0             Specialized   \n",
       "2                           7.0                    High   \n",
       "3                           7.0                    High   \n",
       "4                           4.0             Specialized   \n",
       "\n",
       "         Education_Level Dependents  ... DrugTests_Cocaine_Positive  \\\n",
       "0  At least some college  3 or more  ...                        0.0   \n",
       "1   Less than HS diploma          1  ...                        0.0   \n",
       "2  At least some college  3 or more  ...                        0.0   \n",
       "3   Less than HS diploma          1  ...                        0.0   \n",
       "4   Less than HS diploma  3 or more  ...                        0.0   \n",
       "\n",
       "  DrugTests_Meth_Positive DrugTests_Other_Positive Percent_Days_Employed  \\\n",
       "0                0.000000                      0.0              0.488562   \n",
       "1                0.000000                      0.0              0.425234   \n",
       "2                0.166667                      0.0              0.000000   \n",
       "3                0.000000                      0.0              1.000000   \n",
       "4                0.058824                      0.0              0.203562   \n",
       "\n",
       "  Jobs_Per_Year Employment_Exempt Recidivism_Within_3years  \\\n",
       "0      0.447610             False                    False   \n",
       "1      2.000000             False                     True   \n",
       "2      0.000000             False                     True   \n",
       "3      0.718996             False                    False   \n",
       "4      0.929389             False                     True   \n",
       "\n",
       "  Recidivism_Arrest_Year1  Recidivism_Arrest_Year2  Recidivism_Arrest_Year3  \n",
       "0                   False                    False                    False  \n",
       "1                   False                    False                     True  \n",
       "2                   False                     True                    False  \n",
       "3                   False                    False                    False  \n",
       "4                    True                    False                    False  \n",
       "\n",
       "[5 rows x 53 columns]"
      ]
     },
     "execution_count": 4,
     "metadata": {},
     "output_type": "execute_result"
    }
   ],
   "source": [
    "train.head()"
   ]
  },
  {
   "cell_type": "code",
   "execution_count": 5,
   "id": "b716599c",
   "metadata": {},
   "outputs": [
    {
     "data": {
      "text/html": [
       "<div>\n",
       "<style scoped>\n",
       "    .dataframe tbody tr th:only-of-type {\n",
       "        vertical-align: middle;\n",
       "    }\n",
       "\n",
       "    .dataframe tbody tr th {\n",
       "        vertical-align: top;\n",
       "    }\n",
       "\n",
       "    .dataframe thead th {\n",
       "        text-align: right;\n",
       "    }\n",
       "</style>\n",
       "<table border=\"1\" class=\"dataframe\">\n",
       "  <thead>\n",
       "    <tr style=\"text-align: right;\">\n",
       "      <th></th>\n",
       "      <th>Unnamed: 0</th>\n",
       "      <th>ID</th>\n",
       "      <th>Gender</th>\n",
       "      <th>Race</th>\n",
       "      <th>Age_at_Release</th>\n",
       "      <th>Residence_PUMA</th>\n",
       "      <th>Gang_Affiliated</th>\n",
       "      <th>Supervision_Risk_Score_First</th>\n",
       "      <th>Supervision_Level_First</th>\n",
       "      <th>Education_Level</th>\n",
       "      <th>...</th>\n",
       "      <th>Program_UnexcusedAbsences</th>\n",
       "      <th>Residence_Changes</th>\n",
       "      <th>Avg_Days_per_DrugTest</th>\n",
       "      <th>DrugTests_THC_Positive</th>\n",
       "      <th>DrugTests_Cocaine_Positive</th>\n",
       "      <th>DrugTests_Meth_Positive</th>\n",
       "      <th>DrugTests_Other_Positive</th>\n",
       "      <th>Percent_Days_Employed</th>\n",
       "      <th>Jobs_Per_Year</th>\n",
       "      <th>Employment_Exempt</th>\n",
       "    </tr>\n",
       "  </thead>\n",
       "  <tbody>\n",
       "    <tr>\n",
       "      <th>0</th>\n",
       "      <td>0</td>\n",
       "      <td>6</td>\n",
       "      <td>M</td>\n",
       "      <td>WHITE</td>\n",
       "      <td>38-42</td>\n",
       "      <td>17</td>\n",
       "      <td>False</td>\n",
       "      <td>5.0</td>\n",
       "      <td>Standard</td>\n",
       "      <td>High School Diploma</td>\n",
       "      <td>...</td>\n",
       "      <td>0</td>\n",
       "      <td>3 or more</td>\n",
       "      <td>474.600</td>\n",
       "      <td>0.00</td>\n",
       "      <td>0.0</td>\n",
       "      <td>0.00</td>\n",
       "      <td>0.0</td>\n",
       "      <td>0.674252</td>\n",
       "      <td>0.307838</td>\n",
       "      <td>False</td>\n",
       "    </tr>\n",
       "    <tr>\n",
       "      <th>1</th>\n",
       "      <td>1</td>\n",
       "      <td>8</td>\n",
       "      <td>M</td>\n",
       "      <td>BLACK</td>\n",
       "      <td>38-42</td>\n",
       "      <td>16</td>\n",
       "      <td>False</td>\n",
       "      <td>5.0</td>\n",
       "      <td>High</td>\n",
       "      <td>High School Diploma</td>\n",
       "      <td>...</td>\n",
       "      <td>0</td>\n",
       "      <td>0</td>\n",
       "      <td>34.775</td>\n",
       "      <td>0.00</td>\n",
       "      <td>0.0</td>\n",
       "      <td>0.00</td>\n",
       "      <td>0.0</td>\n",
       "      <td>0.469446</td>\n",
       "      <td>0.525162</td>\n",
       "      <td>False</td>\n",
       "    </tr>\n",
       "    <tr>\n",
       "      <th>2</th>\n",
       "      <td>2</td>\n",
       "      <td>12</td>\n",
       "      <td>M</td>\n",
       "      <td>BLACK</td>\n",
       "      <td>33-37</td>\n",
       "      <td>16</td>\n",
       "      <td>False</td>\n",
       "      <td>5.0</td>\n",
       "      <td>Specialized</td>\n",
       "      <td>High School Diploma</td>\n",
       "      <td>...</td>\n",
       "      <td>0</td>\n",
       "      <td>0</td>\n",
       "      <td>8.040</td>\n",
       "      <td>0.04</td>\n",
       "      <td>0.0</td>\n",
       "      <td>0.08</td>\n",
       "      <td>0.0</td>\n",
       "      <td>0.000000</td>\n",
       "      <td>0.000000</td>\n",
       "      <td>True</td>\n",
       "    </tr>\n",
       "    <tr>\n",
       "      <th>3</th>\n",
       "      <td>3</td>\n",
       "      <td>15</td>\n",
       "      <td>M</td>\n",
       "      <td>WHITE</td>\n",
       "      <td>33-37</td>\n",
       "      <td>5</td>\n",
       "      <td>False</td>\n",
       "      <td>7.0</td>\n",
       "      <td>Standard</td>\n",
       "      <td>Less than HS diploma</td>\n",
       "      <td>...</td>\n",
       "      <td>0</td>\n",
       "      <td>1</td>\n",
       "      <td>98.750</td>\n",
       "      <td>0.00</td>\n",
       "      <td>0.0</td>\n",
       "      <td>0.00</td>\n",
       "      <td>0.0</td>\n",
       "      <td>0.000000</td>\n",
       "      <td>0.000000</td>\n",
       "      <td>True</td>\n",
       "    </tr>\n",
       "    <tr>\n",
       "      <th>4</th>\n",
       "      <td>4</td>\n",
       "      <td>16</td>\n",
       "      <td>M</td>\n",
       "      <td>BLACK</td>\n",
       "      <td>33-37</td>\n",
       "      <td>3</td>\n",
       "      <td>False</td>\n",
       "      <td>4.0</td>\n",
       "      <td>Standard</td>\n",
       "      <td>Less than HS diploma</td>\n",
       "      <td>...</td>\n",
       "      <td>0</td>\n",
       "      <td>0</td>\n",
       "      <td>74.500</td>\n",
       "      <td>0.00</td>\n",
       "      <td>0.0</td>\n",
       "      <td>0.00</td>\n",
       "      <td>0.0</td>\n",
       "      <td>0.338926</td>\n",
       "      <td>0.612836</td>\n",
       "      <td>False</td>\n",
       "    </tr>\n",
       "  </tbody>\n",
       "</table>\n",
       "<p>5 rows × 50 columns</p>\n",
       "</div>"
      ],
      "text/plain": [
       "   Unnamed: 0  ID Gender   Race Age_at_Release  Residence_PUMA  \\\n",
       "0           0   6      M  WHITE          38-42              17   \n",
       "1           1   8      M  BLACK          38-42              16   \n",
       "2           2  12      M  BLACK          33-37              16   \n",
       "3           3  15      M  WHITE          33-37               5   \n",
       "4           4  16      M  BLACK          33-37               3   \n",
       "\n",
       "  Gang_Affiliated  Supervision_Risk_Score_First Supervision_Level_First  \\\n",
       "0           False                           5.0                Standard   \n",
       "1           False                           5.0                    High   \n",
       "2           False                           5.0             Specialized   \n",
       "3           False                           7.0                Standard   \n",
       "4           False                           4.0                Standard   \n",
       "\n",
       "        Education_Level  ... Program_UnexcusedAbsences Residence_Changes  \\\n",
       "0   High School Diploma  ...                         0         3 or more   \n",
       "1   High School Diploma  ...                         0                 0   \n",
       "2   High School Diploma  ...                         0                 0   \n",
       "3  Less than HS diploma  ...                         0                 1   \n",
       "4  Less than HS diploma  ...                         0                 0   \n",
       "\n",
       "  Avg_Days_per_DrugTest DrugTests_THC_Positive DrugTests_Cocaine_Positive  \\\n",
       "0               474.600                   0.00                        0.0   \n",
       "1                34.775                   0.00                        0.0   \n",
       "2                 8.040                   0.04                        0.0   \n",
       "3                98.750                   0.00                        0.0   \n",
       "4                74.500                   0.00                        0.0   \n",
       "\n",
       "  DrugTests_Meth_Positive DrugTests_Other_Positive Percent_Days_Employed  \\\n",
       "0                    0.00                      0.0              0.674252   \n",
       "1                    0.00                      0.0              0.469446   \n",
       "2                    0.08                      0.0              0.000000   \n",
       "3                    0.00                      0.0              0.000000   \n",
       "4                    0.00                      0.0              0.338926   \n",
       "\n",
       "  Jobs_Per_Year  Employment_Exempt  \n",
       "0      0.307838              False  \n",
       "1      0.525162              False  \n",
       "2      0.000000               True  \n",
       "3      0.000000               True  \n",
       "4      0.612836              False  \n",
       "\n",
       "[5 rows x 50 columns]"
      ]
     },
     "execution_count": 5,
     "metadata": {},
     "output_type": "execute_result"
    }
   ],
   "source": [
    "test.head()"
   ]
  },
  {
   "cell_type": "code",
   "execution_count": 6,
   "id": "9a9c7bd7",
   "metadata": {},
   "outputs": [
    {
     "data": {
      "text/plain": [
       "Standard       6971\n",
       "Specialized    4942\n",
       "High           4903\n",
       "Name: Supervision_Level_First, dtype: int64"
      ]
     },
     "execution_count": 6,
     "metadata": {},
     "output_type": "execute_result"
    }
   ],
   "source": [
    "train.Supervision_Level_First.value_counts()"
   ]
  },
  {
   "cell_type": "code",
   "execution_count": 7,
   "id": "f7a17047",
   "metadata": {},
   "outputs": [
    {
     "data": {
      "text/html": [
       "<div>\n",
       "<style scoped>\n",
       "    .dataframe tbody tr th:only-of-type {\n",
       "        vertical-align: middle;\n",
       "    }\n",
       "\n",
       "    .dataframe tbody tr th {\n",
       "        vertical-align: top;\n",
       "    }\n",
       "\n",
       "    .dataframe thead th {\n",
       "        text-align: right;\n",
       "    }\n",
       "</style>\n",
       "<table border=\"1\" class=\"dataframe\">\n",
       "  <thead>\n",
       "    <tr style=\"text-align: right;\">\n",
       "      <th></th>\n",
       "      <th>ID</th>\n",
       "      <th>Gender</th>\n",
       "      <th>Race</th>\n",
       "      <th>Age_at_Release</th>\n",
       "      <th>Residence_PUMA</th>\n",
       "      <th>Gang_Affiliated</th>\n",
       "      <th>Supervision_Risk_Score_First</th>\n",
       "      <th>Supervision_Level_First</th>\n",
       "      <th>Education_Level</th>\n",
       "      <th>Dependents</th>\n",
       "      <th>...</th>\n",
       "      <th>Program_UnexcusedAbsences</th>\n",
       "      <th>Residence_Changes</th>\n",
       "      <th>Avg_Days_per_DrugTest</th>\n",
       "      <th>DrugTests_THC_Positive</th>\n",
       "      <th>DrugTests_Cocaine_Positive</th>\n",
       "      <th>DrugTests_Meth_Positive</th>\n",
       "      <th>DrugTests_Other_Positive</th>\n",
       "      <th>Percent_Days_Employed</th>\n",
       "      <th>Jobs_Per_Year</th>\n",
       "      <th>Employment_Exempt</th>\n",
       "    </tr>\n",
       "  </thead>\n",
       "  <tbody>\n",
       "    <tr>\n",
       "      <th>0</th>\n",
       "      <td>6</td>\n",
       "      <td>M</td>\n",
       "      <td>WHITE</td>\n",
       "      <td>38-42</td>\n",
       "      <td>17</td>\n",
       "      <td>False</td>\n",
       "      <td>5.0</td>\n",
       "      <td>Standard</td>\n",
       "      <td>High School Diploma</td>\n",
       "      <td>0</td>\n",
       "      <td>...</td>\n",
       "      <td>0</td>\n",
       "      <td>3 or more</td>\n",
       "      <td>474.600</td>\n",
       "      <td>0.00</td>\n",
       "      <td>0.0</td>\n",
       "      <td>0.00</td>\n",
       "      <td>0.0</td>\n",
       "      <td>0.674252</td>\n",
       "      <td>0.307838</td>\n",
       "      <td>False</td>\n",
       "    </tr>\n",
       "    <tr>\n",
       "      <th>1</th>\n",
       "      <td>8</td>\n",
       "      <td>M</td>\n",
       "      <td>BLACK</td>\n",
       "      <td>38-42</td>\n",
       "      <td>16</td>\n",
       "      <td>False</td>\n",
       "      <td>5.0</td>\n",
       "      <td>High</td>\n",
       "      <td>High School Diploma</td>\n",
       "      <td>3 or more</td>\n",
       "      <td>...</td>\n",
       "      <td>0</td>\n",
       "      <td>0</td>\n",
       "      <td>34.775</td>\n",
       "      <td>0.00</td>\n",
       "      <td>0.0</td>\n",
       "      <td>0.00</td>\n",
       "      <td>0.0</td>\n",
       "      <td>0.469446</td>\n",
       "      <td>0.525162</td>\n",
       "      <td>False</td>\n",
       "    </tr>\n",
       "    <tr>\n",
       "      <th>2</th>\n",
       "      <td>12</td>\n",
       "      <td>M</td>\n",
       "      <td>BLACK</td>\n",
       "      <td>33-37</td>\n",
       "      <td>16</td>\n",
       "      <td>False</td>\n",
       "      <td>5.0</td>\n",
       "      <td>Specialized</td>\n",
       "      <td>High School Diploma</td>\n",
       "      <td>3 or more</td>\n",
       "      <td>...</td>\n",
       "      <td>0</td>\n",
       "      <td>0</td>\n",
       "      <td>8.040</td>\n",
       "      <td>0.04</td>\n",
       "      <td>0.0</td>\n",
       "      <td>0.08</td>\n",
       "      <td>0.0</td>\n",
       "      <td>0.000000</td>\n",
       "      <td>0.000000</td>\n",
       "      <td>True</td>\n",
       "    </tr>\n",
       "    <tr>\n",
       "      <th>3</th>\n",
       "      <td>15</td>\n",
       "      <td>M</td>\n",
       "      <td>WHITE</td>\n",
       "      <td>33-37</td>\n",
       "      <td>5</td>\n",
       "      <td>False</td>\n",
       "      <td>7.0</td>\n",
       "      <td>Standard</td>\n",
       "      <td>Less than HS diploma</td>\n",
       "      <td>1</td>\n",
       "      <td>...</td>\n",
       "      <td>0</td>\n",
       "      <td>1</td>\n",
       "      <td>98.750</td>\n",
       "      <td>0.00</td>\n",
       "      <td>0.0</td>\n",
       "      <td>0.00</td>\n",
       "      <td>0.0</td>\n",
       "      <td>0.000000</td>\n",
       "      <td>0.000000</td>\n",
       "      <td>True</td>\n",
       "    </tr>\n",
       "    <tr>\n",
       "      <th>4</th>\n",
       "      <td>16</td>\n",
       "      <td>M</td>\n",
       "      <td>BLACK</td>\n",
       "      <td>33-37</td>\n",
       "      <td>3</td>\n",
       "      <td>False</td>\n",
       "      <td>4.0</td>\n",
       "      <td>Standard</td>\n",
       "      <td>Less than HS diploma</td>\n",
       "      <td>3 or more</td>\n",
       "      <td>...</td>\n",
       "      <td>0</td>\n",
       "      <td>0</td>\n",
       "      <td>74.500</td>\n",
       "      <td>0.00</td>\n",
       "      <td>0.0</td>\n",
       "      <td>0.00</td>\n",
       "      <td>0.0</td>\n",
       "      <td>0.338926</td>\n",
       "      <td>0.612836</td>\n",
       "      <td>False</td>\n",
       "    </tr>\n",
       "  </tbody>\n",
       "</table>\n",
       "<p>5 rows × 49 columns</p>\n",
       "</div>"
      ],
      "text/plain": [
       "   ID Gender   Race Age_at_Release  Residence_PUMA Gang_Affiliated  \\\n",
       "0   6      M  WHITE          38-42              17           False   \n",
       "1   8      M  BLACK          38-42              16           False   \n",
       "2  12      M  BLACK          33-37              16           False   \n",
       "3  15      M  WHITE          33-37               5           False   \n",
       "4  16      M  BLACK          33-37               3           False   \n",
       "\n",
       "   Supervision_Risk_Score_First Supervision_Level_First       Education_Level  \\\n",
       "0                           5.0                Standard   High School Diploma   \n",
       "1                           5.0                    High   High School Diploma   \n",
       "2                           5.0             Specialized   High School Diploma   \n",
       "3                           7.0                Standard  Less than HS diploma   \n",
       "4                           4.0                Standard  Less than HS diploma   \n",
       "\n",
       "  Dependents  ... Program_UnexcusedAbsences Residence_Changes  \\\n",
       "0          0  ...                         0         3 or more   \n",
       "1  3 or more  ...                         0                 0   \n",
       "2  3 or more  ...                         0                 0   \n",
       "3          1  ...                         0                 1   \n",
       "4  3 or more  ...                         0                 0   \n",
       "\n",
       "  Avg_Days_per_DrugTest DrugTests_THC_Positive DrugTests_Cocaine_Positive  \\\n",
       "0               474.600                   0.00                        0.0   \n",
       "1                34.775                   0.00                        0.0   \n",
       "2                 8.040                   0.04                        0.0   \n",
       "3                98.750                   0.00                        0.0   \n",
       "4                74.500                   0.00                        0.0   \n",
       "\n",
       "  DrugTests_Meth_Positive DrugTests_Other_Positive Percent_Days_Employed  \\\n",
       "0                    0.00                      0.0              0.674252   \n",
       "1                    0.00                      0.0              0.469446   \n",
       "2                    0.08                      0.0              0.000000   \n",
       "3                    0.00                      0.0              0.000000   \n",
       "4                    0.00                      0.0              0.338926   \n",
       "\n",
       "   Jobs_Per_Year  Employment_Exempt  \n",
       "0       0.307838              False  \n",
       "1       0.525162              False  \n",
       "2       0.000000               True  \n",
       "3       0.000000               True  \n",
       "4       0.612836              False  \n",
       "\n",
       "[5 rows x 49 columns]"
      ]
     },
     "execution_count": 7,
     "metadata": {},
     "output_type": "execute_result"
    }
   ],
   "source": [
    "test = test.drop(['Unnamed: 0'], axis = 1)\n",
    "test.head()"
   ]
  },
  {
   "cell_type": "code",
   "execution_count": 8,
   "id": "41e891d6",
   "metadata": {},
   "outputs": [],
   "source": [
    "train = train.set_index('ID')"
   ]
  },
  {
   "cell_type": "code",
   "execution_count": 9,
   "id": "f9f399d2",
   "metadata": {},
   "outputs": [],
   "source": [
    "test = test.set_index('ID')"
   ]
  },
  {
   "cell_type": "code",
   "execution_count": 10,
   "id": "deb69256",
   "metadata": {},
   "outputs": [
    {
     "data": {
      "text/plain": [
       "{'Age_at_Release',\n",
       " 'Avg_Days_per_DrugTest',\n",
       " 'Condition_Cog_Ed',\n",
       " 'Condition_MH_SA',\n",
       " 'Condition_Other',\n",
       " 'Delinquency_Reports',\n",
       " 'Dependents',\n",
       " 'DrugTests_Cocaine_Positive',\n",
       " 'DrugTests_Meth_Positive',\n",
       " 'DrugTests_Other_Positive',\n",
       " 'DrugTests_THC_Positive',\n",
       " 'Education_Level',\n",
       " 'Employment_Exempt',\n",
       " 'Gang_Affiliated',\n",
       " 'Gender',\n",
       " 'Jobs_Per_Year',\n",
       " 'Percent_Days_Employed',\n",
       " 'Prior_Arrest_Episodes_DVCharges',\n",
       " 'Prior_Arrest_Episodes_Drug',\n",
       " 'Prior_Arrest_Episodes_Felony',\n",
       " 'Prior_Arrest_Episodes_GunCharges',\n",
       " 'Prior_Arrest_Episodes_Misd',\n",
       " 'Prior_Arrest_Episodes_PPViolationCharges',\n",
       " 'Prior_Arrest_Episodes_Property',\n",
       " 'Prior_Arrest_Episodes_Violent',\n",
       " 'Prior_Conviction_Episodes_DomesticViolenceCharges',\n",
       " 'Prior_Conviction_Episodes_Drug',\n",
       " 'Prior_Conviction_Episodes_Felony',\n",
       " 'Prior_Conviction_Episodes_GunCharges',\n",
       " 'Prior_Conviction_Episodes_Misd',\n",
       " 'Prior_Conviction_Episodes_PPViolationCharges',\n",
       " 'Prior_Conviction_Episodes_Prop',\n",
       " 'Prior_Conviction_Episodes_Viol',\n",
       " 'Prior_Revocations_Parole',\n",
       " 'Prior_Revocations_Probation',\n",
       " 'Prison_Offense',\n",
       " 'Prison_Years',\n",
       " 'Program_Attendances',\n",
       " 'Program_UnexcusedAbsences',\n",
       " 'Race',\n",
       " 'Residence_Changes',\n",
       " 'Residence_PUMA',\n",
       " 'Supervision_Level_First',\n",
       " 'Supervision_Risk_Score_First',\n",
       " 'Violations_ElectronicMonitoring',\n",
       " 'Violations_FailToReport',\n",
       " 'Violations_Instruction',\n",
       " 'Violations_MoveWithoutPermission'}"
      ]
     },
     "execution_count": 10,
     "metadata": {},
     "output_type": "execute_result"
    }
   ],
   "source": [
    "# test df has fewer columns than train df\n",
    "set(train.columns).intersection(set(test.columns)) # find like columns"
   ]
  },
  {
   "cell_type": "code",
   "execution_count": 12,
   "id": "9ac792e5",
   "metadata": {},
   "outputs": [],
   "source": [
    "# drop extra coulmns from test df\n",
    "# Recidivism_Within_3years\n",
    "train = train[['Age_at_Release','Avg_Days_per_DrugTest','Condition_Cog_Ed','Condition_MH_SA','Condition_Other',\n",
    "               'Delinquency_Reports','Dependents','DrugTests_Cocaine_Positive','DrugTests_Meth_Positive',\n",
    "               'DrugTests_Other_Positive','DrugTests_THC_Positive','Education_Level','Employment_Exempt',\n",
    "               'Gang_Affiliated','Gender','Jobs_Per_Year','Percent_Days_Employed','Prior_Arrest_Episodes_DVCharges',\n",
    "               'Prior_Arrest_Episodes_Drug','Prior_Arrest_Episodes_Felony','Prior_Arrest_Episodes_GunCharges',\n",
    "               'Prior_Arrest_Episodes_Misd','Prior_Arrest_Episodes_PPViolationCharges',\n",
    "               'Prior_Arrest_Episodes_Property','Prior_Arrest_Episodes_Violent',\n",
    "               'Prior_Conviction_Episodes_DomesticViolenceCharges','Prior_Conviction_Episodes_Drug',\n",
    "               'Prior_Conviction_Episodes_Felony','Prior_Conviction_Episodes_GunCharges',\n",
    "               'Prior_Conviction_Episodes_Misd','Prior_Conviction_Episodes_PPViolationCharges',\n",
    "               'Prior_Conviction_Episodes_Prop','Prior_Conviction_Episodes_Viol','Prior_Revocations_Parole',\n",
    "               'Prior_Revocations_Probation','Prison_Offense','Prison_Years',\n",
    "               'Program_Attendances','Program_UnexcusedAbsences','Race','Residence_Changes',\n",
    "               'Residence_PUMA','Supervision_Level_First','Supervision_Risk_Score_First',\n",
    "               'Violations_ElectronicMonitoring','Violations_FailToReport','Violations_Instruction',\n",
    "               'Violations_MoveWithoutPermission','Recidivism_Within_3years']]"
   ]
  },
  {
   "cell_type": "code",
   "execution_count": 13,
   "id": "0c57972e",
   "metadata": {},
   "outputs": [],
   "source": [
    "train['Gang_Affiliated'] = train['Gang_Affiliated'].fillna('False')\n",
    "train['Supervision_Risk_Score_First'] = train[\"Supervision_Risk_Score_First\"].fillna(float(6))\n",
    "train['Supervision_Level_First']=train['Supervision_Level_First'].fillna('Standard')\n",
    "train['Prison_Offense'] = train['Prison_Offense'].fillna('Property')"
   ]
  },
  {
   "cell_type": "code",
   "execution_count": 14,
   "id": "b8d4f63a",
   "metadata": {},
   "outputs": [
    {
     "data": {
      "text/plain": [
       "93.5858598589519"
      ]
     },
     "execution_count": 14,
     "metadata": {},
     "output_type": "execute_result"
    }
   ],
   "source": [
    "train.Avg_Days_per_DrugTest.mean()"
   ]
  },
  {
   "cell_type": "code",
   "execution_count": 15,
   "id": "753546af",
   "metadata": {
    "scrolled": true
   },
   "outputs": [
    {
     "data": {
      "text/plain": [
       "0.000000    13073\n",
       "0.200000       92\n",
       "0.500000       85\n",
       "0.100000       68\n",
       "0.166667       66\n",
       "            ...  \n",
       "0.012658        1\n",
       "0.031746        1\n",
       "0.054054        1\n",
       "0.238095        1\n",
       "0.003676        1\n",
       "Name: DrugTests_Cocaine_Positive, Length: 203, dtype: int64"
      ]
     },
     "execution_count": 15,
     "metadata": {},
     "output_type": "execute_result"
    }
   ],
   "source": [
    "train.DrugTests_Cocaine_Positive.value_counts()"
   ]
  },
  {
   "cell_type": "code",
   "execution_count": 16,
   "id": "ab9fb72e",
   "metadata": {
    "scrolled": false
   },
   "outputs": [
    {
     "data": {
      "text/plain": [
       "0.000000    12975\n",
       "0.166667       82\n",
       "0.200000       78\n",
       "0.100000       67\n",
       "0.333333       65\n",
       "            ...  \n",
       "0.044118        1\n",
       "0.172414        1\n",
       "0.020548        1\n",
       "0.007143        1\n",
       "0.007692        1\n",
       "Name: DrugTests_Meth_Positive, Length: 201, dtype: int64"
      ]
     },
     "execution_count": 16,
     "metadata": {},
     "output_type": "execute_result"
    }
   ],
   "source": [
    "train.DrugTests_Meth_Positive.value_counts()"
   ]
  },
  {
   "cell_type": "code",
   "execution_count": 17,
   "id": "e6805066",
   "metadata": {
    "scrolled": true
   },
   "outputs": [
    {
     "data": {
      "text/plain": [
       "0.000000    13328\n",
       "0.066667       49\n",
       "0.200000       47\n",
       "0.100000       47\n",
       "0.090909       41\n",
       "            ...  \n",
       "0.012500        1\n",
       "0.016071        1\n",
       "0.176471        1\n",
       "0.179487        1\n",
       "0.020356        1\n",
       "Name: DrugTests_Other_Positive, Length: 197, dtype: int64"
      ]
     },
     "execution_count": 17,
     "metadata": {},
     "output_type": "execute_result"
    }
   ],
   "source": [
    "train.DrugTests_Other_Positive.value_counts()"
   ]
  },
  {
   "cell_type": "code",
   "execution_count": 18,
   "id": "a75276f2",
   "metadata": {
    "scrolled": true
   },
   "outputs": [
    {
     "data": {
      "text/plain": [
       "0.000000    9893\n",
       "0.200000     388\n",
       "0.500000     344\n",
       "0.333333     276\n",
       "0.250000     238\n",
       "            ... \n",
       "0.304348       1\n",
       "0.092593       1\n",
       "0.030769       1\n",
       "0.016667       1\n",
       "0.007353       1\n",
       "Name: DrugTests_THC_Positive, Length: 311, dtype: int64"
      ]
     },
     "execution_count": 18,
     "metadata": {},
     "output_type": "execute_result"
    }
   ],
   "source": [
    "train.DrugTests_THC_Positive.value_counts()"
   ]
  },
  {
   "cell_type": "code",
   "execution_count": 19,
   "id": "2a0cbf23",
   "metadata": {},
   "outputs": [
    {
     "data": {
      "text/plain": [
       "0.06312002135558589"
      ]
     },
     "execution_count": 19,
     "metadata": {},
     "output_type": "execute_result"
    }
   ],
   "source": [
    "train.DrugTests_THC_Positive.mean()"
   ]
  },
  {
   "cell_type": "code",
   "execution_count": 20,
   "id": "2b3acc8e",
   "metadata": {
    "scrolled": true
   },
   "outputs": [
    {
     "data": {
      "text/plain": [
       "0.000000    5455\n",
       "1.000000    2228\n",
       "2.000000    1009\n",
       "3.000000     262\n",
       "4.000000      63\n",
       "            ... \n",
       "3.875332       1\n",
       "1.312275       1\n",
       "0.768408       1\n",
       "1.857203       1\n",
       "1.334653       1\n",
       "Name: Jobs_Per_Year, Length: 3044, dtype: int64"
      ]
     },
     "execution_count": 20,
     "metadata": {},
     "output_type": "execute_result"
    }
   ],
   "source": [
    "train.Jobs_Per_Year.value_counts()"
   ]
  },
  {
   "cell_type": "code",
   "execution_count": 21,
   "id": "d457b0f0",
   "metadata": {},
   "outputs": [
    {
     "data": {
      "text/plain": [
       "0.7664227222145262"
      ]
     },
     "execution_count": 21,
     "metadata": {},
     "output_type": "execute_result"
    }
   ],
   "source": [
    "train.Jobs_Per_Year.mean()"
   ]
  },
  {
   "cell_type": "code",
   "execution_count": 22,
   "id": "f1d049b0",
   "metadata": {},
   "outputs": [
    {
     "data": {
      "text/plain": [
       "0.48003490711381996"
      ]
     },
     "execution_count": 22,
     "metadata": {},
     "output_type": "execute_result"
    }
   ],
   "source": [
    "train.Percent_Days_Employed.mean()"
   ]
  },
  {
   "cell_type": "code",
   "execution_count": 23,
   "id": "bd1c136f",
   "metadata": {},
   "outputs": [
    {
     "data": {
      "text/plain": [
       "0.000000    5713\n",
       "1.000000    3540\n",
       "0.500000       6\n",
       "0.727273       5\n",
       "0.923077       5\n",
       "            ... \n",
       "0.425000       1\n",
       "0.490506       1\n",
       "0.233724       1\n",
       "0.440876       1\n",
       "0.124454       1\n",
       "Name: Percent_Days_Employed, Length: 7915, dtype: int64"
      ]
     },
     "execution_count": 23,
     "metadata": {},
     "output_type": "execute_result"
    }
   ],
   "source": [
    "train.Percent_Days_Employed.value_counts()"
   ]
  },
  {
   "cell_type": "code",
   "execution_count": 24,
   "id": "6a9d303a",
   "metadata": {},
   "outputs": [],
   "source": [
    "train[\"Avg_Days_per_DrugTest\"] = train.Avg_Days_per_DrugTest.fillna(train[\"Avg_Days_per_DrugTest\"].mean())\n",
    "train[\"DrugTests_Cocaine_Positive\"] = train.DrugTests_Cocaine_Positive.fillna(float(0))\n",
    "train[\"DrugTests_Meth_Positive\"] = train.DrugTests_Meth_Positive.fillna(float(0))\n",
    "train[\"DrugTests_Other_Positive\"] = train.DrugTests_Other_Positive.fillna(float(0))\n",
    "train[\"DrugTests_THC_Positive\"] = train.DrugTests_THC_Positive.fillna(train[\"DrugTests_THC_Positive\"].mean())\n",
    "train[\"Jobs_Per_Year\"] = train.Jobs_Per_Year.fillna(train[\"Jobs_Per_Year\"].mean())\n",
    "train[\"Percent_Days_Employed\"] = train.Percent_Days_Employed.fillna(train[\"Percent_Days_Employed\"].mean())"
   ]
  },
  {
   "cell_type": "code",
   "execution_count": 25,
   "id": "d862605e",
   "metadata": {},
   "outputs": [
    {
     "data": {
      "text/plain": [
       "Age_at_Release                                       0\n",
       "Avg_Days_per_DrugTest                                0\n",
       "Condition_Cog_Ed                                     0\n",
       "Condition_MH_SA                                      0\n",
       "Condition_Other                                      0\n",
       "Delinquency_Reports                                  0\n",
       "Dependents                                           0\n",
       "DrugTests_Cocaine_Positive                           0\n",
       "DrugTests_Meth_Positive                              0\n",
       "DrugTests_Other_Positive                             0\n",
       "DrugTests_THC_Positive                               0\n",
       "Education_Level                                      0\n",
       "Employment_Exempt                                    0\n",
       "Gang_Affiliated                                      0\n",
       "Gender                                               0\n",
       "Jobs_Per_Year                                        0\n",
       "Percent_Days_Employed                                0\n",
       "Prior_Arrest_Episodes_DVCharges                      0\n",
       "Prior_Arrest_Episodes_Drug                           0\n",
       "Prior_Arrest_Episodes_Felony                         0\n",
       "Prior_Arrest_Episodes_GunCharges                     0\n",
       "Prior_Arrest_Episodes_Misd                           0\n",
       "Prior_Arrest_Episodes_PPViolationCharges             0\n",
       "Prior_Arrest_Episodes_Property                       0\n",
       "Prior_Arrest_Episodes_Violent                        0\n",
       "Prior_Conviction_Episodes_DomesticViolenceCharges    0\n",
       "Prior_Conviction_Episodes_Drug                       0\n",
       "Prior_Conviction_Episodes_Felony                     0\n",
       "Prior_Conviction_Episodes_GunCharges                 0\n",
       "Prior_Conviction_Episodes_Misd                       0\n",
       "Prior_Conviction_Episodes_PPViolationCharges         0\n",
       "Prior_Conviction_Episodes_Prop                       0\n",
       "Prior_Conviction_Episodes_Viol                       0\n",
       "Prior_Revocations_Parole                             0\n",
       "Prior_Revocations_Probation                          0\n",
       "Prison_Offense                                       0\n",
       "Prison_Years                                         0\n",
       "Program_Attendances                                  0\n",
       "Program_UnexcusedAbsences                            0\n",
       "Race                                                 0\n",
       "Residence_Changes                                    0\n",
       "Residence_PUMA                                       0\n",
       "Supervision_Level_First                              0\n",
       "Supervision_Risk_Score_First                         0\n",
       "Violations_ElectronicMonitoring                      0\n",
       "Violations_FailToReport                              0\n",
       "Violations_Instruction                               0\n",
       "Violations_MoveWithoutPermission                     0\n",
       "Recidivism_Within_3years                             0\n",
       "dtype: int64"
      ]
     },
     "execution_count": 25,
     "metadata": {},
     "output_type": "execute_result"
    }
   ],
   "source": [
    "train.isnull().sum()"
   ]
  },
  {
   "cell_type": "code",
   "execution_count": 26,
   "id": "62790fd5",
   "metadata": {},
   "outputs": [
    {
     "data": {
      "text/plain": [
       "(18028, 49)"
      ]
     },
     "execution_count": 26,
     "metadata": {},
     "output_type": "execute_result"
    }
   ],
   "source": [
    "train.shape"
   ]
  },
  {
   "cell_type": "code",
   "execution_count": 27,
   "id": "4700c60d",
   "metadata": {},
   "outputs": [],
   "source": [
    "test[\"Gang_Affiliated\"] = test.Gang_Affiliated.fillna(\"False\")\n",
    "test[\"Supervision_Risk_Score_First\"] = test[\"Supervision_Risk_Score_First\"].fillna(float(6))\n",
    "test[\"Supervision_Level_First\"] = test[\"Supervision_Level_First\"].fillna('Standard')\n",
    "test[\"Prison_Offense\"] = test[\"Prison_Offense\"].fillna('Property')"
   ]
  },
  {
   "cell_type": "code",
   "execution_count": 28,
   "id": "811d94aa",
   "metadata": {},
   "outputs": [],
   "source": [
    "test[\"Avg_Days_per_DrugTest\"] = test.Avg_Days_per_DrugTest.fillna(train[\"Avg_Days_per_DrugTest\"].mean())\n",
    "test[\"DrugTests_Cocaine_Positive\"] = test.DrugTests_Cocaine_Positive.fillna(float(0))\n",
    "test[\"DrugTests_Meth_Positive\"] = test.DrugTests_Meth_Positive.fillna(float(0))\n",
    "test[\"DrugTests_Other_Positive\"] = test.DrugTests_Other_Positive.fillna(float(0))\n",
    "test[\"DrugTests_THC_Positive\"] = test.DrugTests_THC_Positive.fillna(train[\"DrugTests_THC_Positive\"].mean())\n",
    "test[\"Jobs_Per_Year\"] = test.Jobs_Per_Year.fillna(train[\"Jobs_Per_Year\"].mean())\n",
    "test[\"Percent_Days_Employed\"] = test.Percent_Days_Employed.fillna(train[\"Percent_Days_Employed\"].mean())"
   ]
  },
  {
   "cell_type": "code",
   "execution_count": 29,
   "id": "7ac73430",
   "metadata": {},
   "outputs": [
    {
     "data": {
      "text/plain": [
       "(7807, 48)"
      ]
     },
     "execution_count": 29,
     "metadata": {},
     "output_type": "execute_result"
    }
   ],
   "source": [
    "test.shape"
   ]
  },
  {
   "cell_type": "code",
   "execution_count": 30,
   "id": "b32733a6",
   "metadata": {
    "scrolled": true
   },
   "outputs": [
    {
     "data": {
      "text/plain": [
       "Gender                                               0\n",
       "Race                                                 0\n",
       "Age_at_Release                                       0\n",
       "Residence_PUMA                                       0\n",
       "Gang_Affiliated                                      0\n",
       "Supervision_Risk_Score_First                         0\n",
       "Supervision_Level_First                              0\n",
       "Education_Level                                      0\n",
       "Dependents                                           0\n",
       "Prison_Offense                                       0\n",
       "Prison_Years                                         0\n",
       "Prior_Arrest_Episodes_Felony                         0\n",
       "Prior_Arrest_Episodes_Misd                           0\n",
       "Prior_Arrest_Episodes_Violent                        0\n",
       "Prior_Arrest_Episodes_Property                       0\n",
       "Prior_Arrest_Episodes_Drug                           0\n",
       "Prior_Arrest_Episodes_PPViolationCharges             0\n",
       "Prior_Arrest_Episodes_DVCharges                      0\n",
       "Prior_Arrest_Episodes_GunCharges                     0\n",
       "Prior_Conviction_Episodes_Felony                     0\n",
       "Prior_Conviction_Episodes_Misd                       0\n",
       "Prior_Conviction_Episodes_Viol                       0\n",
       "Prior_Conviction_Episodes_Prop                       0\n",
       "Prior_Conviction_Episodes_Drug                       0\n",
       "Prior_Conviction_Episodes_PPViolationCharges         0\n",
       "Prior_Conviction_Episodes_DomesticViolenceCharges    0\n",
       "Prior_Conviction_Episodes_GunCharges                 0\n",
       "Prior_Revocations_Parole                             0\n",
       "Prior_Revocations_Probation                          0\n",
       "Condition_MH_SA                                      0\n",
       "Condition_Cog_Ed                                     0\n",
       "Condition_Other                                      0\n",
       "Violations_ElectronicMonitoring                      0\n",
       "Violations_Instruction                               0\n",
       "Violations_FailToReport                              0\n",
       "Violations_MoveWithoutPermission                     0\n",
       "Delinquency_Reports                                  0\n",
       "Program_Attendances                                  0\n",
       "Program_UnexcusedAbsences                            0\n",
       "Residence_Changes                                    0\n",
       "Avg_Days_per_DrugTest                                0\n",
       "DrugTests_THC_Positive                               0\n",
       "DrugTests_Cocaine_Positive                           0\n",
       "DrugTests_Meth_Positive                              0\n",
       "DrugTests_Other_Positive                             0\n",
       "Percent_Days_Employed                                0\n",
       "Jobs_Per_Year                                        0\n",
       "Employment_Exempt                                    0\n",
       "dtype: int64"
      ]
     },
     "execution_count": 30,
     "metadata": {},
     "output_type": "execute_result"
    }
   ],
   "source": [
    "test.isnull().sum()"
   ]
  },
  {
   "cell_type": "code",
   "execution_count": 31,
   "id": "25cbadc6",
   "metadata": {
    "execution": {
     "iopub.execute_input": "2022-04-26T02:50:14.405855Z",
     "iopub.status.busy": "2022-04-26T02:50:14.405546Z",
     "iopub.status.idle": "2022-04-26T02:50:14.417352Z",
     "shell.execute_reply": "2022-04-26T02:50:14.416283Z",
     "shell.execute_reply.started": "2022-04-26T02:50:14.405821Z"
    }
   },
   "outputs": [],
   "source": [
    "for column in train.columns:\n",
    "    if train[column].dtype == \"bool\":\n",
    "        train[column] = train[column].astype(\"int\")"
   ]
  },
  {
   "cell_type": "code",
   "execution_count": 32,
   "id": "b24b6c2b",
   "metadata": {},
   "outputs": [],
   "source": [
    "dummy_variables = [column for column in train.columns if train[column].dtype==\"object\"]"
   ]
  },
  {
   "cell_type": "code",
   "execution_count": 33,
   "id": "dabb127b",
   "metadata": {},
   "outputs": [],
   "source": [
    "train = pd.get_dummies(train, columns = dummy_variables, drop_first = True)"
   ]
  },
  {
   "cell_type": "code",
   "execution_count": 34,
   "id": "b4e7262c",
   "metadata": {},
   "outputs": [
    {
     "data": {
      "text/plain": [
       "(18028, 116)"
      ]
     },
     "execution_count": 34,
     "metadata": {},
     "output_type": "execute_result"
    }
   ],
   "source": [
    "train.shape"
   ]
  },
  {
   "cell_type": "code",
   "execution_count": 35,
   "id": "e0741e9a",
   "metadata": {},
   "outputs": [],
   "source": [
    "for column in test.columns:\n",
    "    if test[column].dtype == \"bool\":\n",
    "        test[column] = test[column].astype(\"int\")"
   ]
  },
  {
   "cell_type": "code",
   "execution_count": 36,
   "id": "8350ae4d",
   "metadata": {},
   "outputs": [],
   "source": [
    "dummy_variables = [column for column in test.columns if test[column].dtype==\"object\"]"
   ]
  },
  {
   "cell_type": "code",
   "execution_count": 37,
   "id": "ad690d2f",
   "metadata": {},
   "outputs": [],
   "source": [
    "test = pd.get_dummies(test, columns = dummy_variables, drop_first = True)"
   ]
  },
  {
   "cell_type": "code",
   "execution_count": 38,
   "id": "bded5229",
   "metadata": {},
   "outputs": [
    {
     "data": {
      "text/plain": [
       "(7807, 115)"
      ]
     },
     "execution_count": 38,
     "metadata": {},
     "output_type": "execute_result"
    }
   ],
   "source": [
    "test.shape"
   ]
  },
  {
   "cell_type": "code",
   "execution_count": 39,
   "id": "0bfac671",
   "metadata": {},
   "outputs": [],
   "source": [
    "X = train.drop([\"Recidivism_Within_3years\"], axis=1)\n",
    "y = train[\"Recidivism_Within_3years\"]"
   ]
  },
  {
   "cell_type": "code",
   "execution_count": 40,
   "id": "c49053fd",
   "metadata": {},
   "outputs": [
    {
     "data": {
      "text/plain": [
       "RandomForestClassifier()"
      ]
     },
     "execution_count": 40,
     "metadata": {},
     "output_type": "execute_result"
    }
   ],
   "source": [
    "from sklearn.ensemble import RandomForestClassifier\n",
    "rf = RandomForestClassifier()\n",
    "rf.fit(X,y)"
   ]
  },
  {
   "cell_type": "code",
   "execution_count": 41,
   "id": "29426b25",
   "metadata": {},
   "outputs": [],
   "source": [
    "from sklearn.model_selection import GridSearchCV\n",
    "# Create the parameter grid \n",
    "param_grid = {\n",
    "    'bootstrap': [True],\n",
    "    'max_features': [2, 3],\n",
    "    'n_estimators': [200, 300, 1000]\n",
    "}\n",
    "# Create a based model\n",
    "rf = RandomForestClassifier()\n",
    "# Instantiate the grid search model\n",
    "grid_search = GridSearchCV(estimator = rf, param_grid = param_grid, \n",
    "                          cv = 3, n_jobs = -1, verbose = 2)"
   ]
  },
  {
   "cell_type": "code",
   "execution_count": 42,
   "id": "39668e21",
   "metadata": {},
   "outputs": [
    {
     "name": "stdout",
     "output_type": "stream",
     "text": [
      "Fitting 3 folds for each of 6 candidates, totalling 18 fits\n"
     ]
    },
    {
     "data": {
      "text/plain": [
       "GridSearchCV(cv=3, estimator=RandomForestClassifier(), n_jobs=-1,\n",
       "             param_grid={'bootstrap': [True], 'max_features': [2, 3],\n",
       "                         'n_estimators': [200, 300, 1000]},\n",
       "             verbose=2)"
      ]
     },
     "execution_count": 42,
     "metadata": {},
     "output_type": "execute_result"
    }
   ],
   "source": [
    "grid_search.fit(X,y)"
   ]
  },
  {
   "cell_type": "code",
   "execution_count": 43,
   "id": "bde32e1f",
   "metadata": {},
   "outputs": [
    {
     "data": {
      "text/plain": [
       "RandomForestClassifier(max_features=3, n_estimators=1000)"
      ]
     },
     "execution_count": 43,
     "metadata": {},
     "output_type": "execute_result"
    }
   ],
   "source": [
    "grid_search.best_estimator_"
   ]
  },
  {
   "cell_type": "code",
   "execution_count": 44,
   "id": "0616a256",
   "metadata": {},
   "outputs": [],
   "source": [
    "rf = RandomForestClassifier(max_features=3, n_estimators=300)"
   ]
  },
  {
   "cell_type": "code",
   "execution_count": 45,
   "id": "c53c08eb",
   "metadata": {},
   "outputs": [
    {
     "data": {
      "text/plain": [
       "RandomForestClassifier(max_features=3, n_estimators=300)"
      ]
     },
     "execution_count": 45,
     "metadata": {},
     "output_type": "execute_result"
    }
   ],
   "source": [
    "rf.fit(X,y)"
   ]
  },
  {
   "cell_type": "code",
   "execution_count": 46,
   "id": "7a5bbe11",
   "metadata": {},
   "outputs": [
    {
     "data": {
      "text/plain": [
       "array([0, 1, 1, ..., 0, 0, 1])"
      ]
     },
     "execution_count": 46,
     "metadata": {},
     "output_type": "execute_result"
    }
   ],
   "source": [
    "rf.predict(test)"
   ]
  },
  {
   "cell_type": "code",
   "execution_count": 47,
   "id": "785a0372",
   "metadata": {},
   "outputs": [],
   "source": [
    "pred  = rf.predict(test)\n",
    "submission_rf = submission_sample.copy()\n",
    "submission_rf['Recidivism_Within_3years'] = pred"
   ]
  },
  {
   "cell_type": "code",
   "execution_count": 48,
   "id": "8ba75ee0",
   "metadata": {},
   "outputs": [],
   "source": [
    "submission_rf.to_csv(\"submission278.csv\", index = False)"
   ]
  },
  {
   "cell_type": "code",
   "execution_count": 49,
   "id": "5f710786",
   "metadata": {},
   "outputs": [
    {
     "data": {
      "text/html": [
       "<div>\n",
       "<style scoped>\n",
       "    .dataframe tbody tr th:only-of-type {\n",
       "        vertical-align: middle;\n",
       "    }\n",
       "\n",
       "    .dataframe tbody tr th {\n",
       "        vertical-align: top;\n",
       "    }\n",
       "\n",
       "    .dataframe thead th {\n",
       "        text-align: right;\n",
       "    }\n",
       "</style>\n",
       "<table border=\"1\" class=\"dataframe\">\n",
       "  <thead>\n",
       "    <tr style=\"text-align: right;\">\n",
       "      <th></th>\n",
       "      <th>ID</th>\n",
       "      <th>Recidivism_Within_3years</th>\n",
       "    </tr>\n",
       "  </thead>\n",
       "  <tbody>\n",
       "    <tr>\n",
       "      <th>0</th>\n",
       "      <td>6</td>\n",
       "      <td>0</td>\n",
       "    </tr>\n",
       "    <tr>\n",
       "      <th>1</th>\n",
       "      <td>8</td>\n",
       "      <td>1</td>\n",
       "    </tr>\n",
       "    <tr>\n",
       "      <th>2</th>\n",
       "      <td>12</td>\n",
       "      <td>1</td>\n",
       "    </tr>\n",
       "    <tr>\n",
       "      <th>3</th>\n",
       "      <td>15</td>\n",
       "      <td>1</td>\n",
       "    </tr>\n",
       "    <tr>\n",
       "      <th>4</th>\n",
       "      <td>16</td>\n",
       "      <td>1</td>\n",
       "    </tr>\n",
       "    <tr>\n",
       "      <th>...</th>\n",
       "      <td>...</td>\n",
       "      <td>...</td>\n",
       "    </tr>\n",
       "    <tr>\n",
       "      <th>7802</th>\n",
       "      <td>26746</td>\n",
       "      <td>1</td>\n",
       "    </tr>\n",
       "    <tr>\n",
       "      <th>7803</th>\n",
       "      <td>26747</td>\n",
       "      <td>0</td>\n",
       "    </tr>\n",
       "    <tr>\n",
       "      <th>7804</th>\n",
       "      <td>26749</td>\n",
       "      <td>0</td>\n",
       "    </tr>\n",
       "    <tr>\n",
       "      <th>7805</th>\n",
       "      <td>26752</td>\n",
       "      <td>0</td>\n",
       "    </tr>\n",
       "    <tr>\n",
       "      <th>7806</th>\n",
       "      <td>26755</td>\n",
       "      <td>1</td>\n",
       "    </tr>\n",
       "  </tbody>\n",
       "</table>\n",
       "<p>7807 rows × 2 columns</p>\n",
       "</div>"
      ],
      "text/plain": [
       "         ID  Recidivism_Within_3years\n",
       "0         6                         0\n",
       "1         8                         1\n",
       "2        12                         1\n",
       "3        15                         1\n",
       "4        16                         1\n",
       "...     ...                       ...\n",
       "7802  26746                         1\n",
       "7803  26747                         0\n",
       "7804  26749                         0\n",
       "7805  26752                         0\n",
       "7806  26755                         1\n",
       "\n",
       "[7807 rows x 2 columns]"
      ]
     },
     "execution_count": 49,
     "metadata": {},
     "output_type": "execute_result"
    }
   ],
   "source": [
    "submission_rf"
   ]
  },
  {
   "cell_type": "code",
   "execution_count": 50,
   "id": "810aad86",
   "metadata": {},
   "outputs": [],
   "source": [
    "from sklearn.model_selection import train_test_split\n",
    "X_train, X_test, y_train, y_test = train_test_split(X, y, test_size=0.2, random_state = 42, shuffle = True)"
   ]
  },
  {
   "cell_type": "code",
   "execution_count": 51,
   "id": "2851420e",
   "metadata": {},
   "outputs": [
    {
     "data": {
      "text/plain": [
       "XGBClassifier(base_score=0.5, booster='gbtree', callbacks=None,\n",
       "              colsample_bylevel=1, colsample_bynode=1, colsample_bytree=1,\n",
       "              early_stopping_rounds=None, enable_categorical=False,\n",
       "              eval_metric=None, gamma=0, gpu_id=-1, grow_policy='depthwise',\n",
       "              importance_type=None, interaction_constraints='',\n",
       "              learning_rate=0.300000012, max_bin=256, max_cat_to_onehot=4,\n",
       "              max_delta_step=0, max_depth=6, max_leaves=0, min_child_weight=1,\n",
       "              missing=nan, monotone_constraints='()', n_estimators=200,\n",
       "              n_jobs=0, num_parallel_tree=1, predictor='auto', random_state=0,\n",
       "              reg_alpha=0, reg_lambda=1, ...)"
      ]
     },
     "execution_count": 51,
     "metadata": {},
     "output_type": "execute_result"
    }
   ],
   "source": [
    "from xgboost import XGBClassifier\n",
    "xgb = XGBClassifier(n_estimators=200)\n",
    "\n",
    "xgb.fit(X_train, y_train)\n"
   ]
  },
  {
   "cell_type": "code",
   "execution_count": 52,
   "id": "b8fcc995",
   "metadata": {},
   "outputs": [],
   "source": [
    "prediction = xgb.predict(X_test)"
   ]
  },
  {
   "cell_type": "code",
   "execution_count": 53,
   "id": "60cf046d",
   "metadata": {},
   "outputs": [
    {
     "data": {
      "text/plain": [
       "array([0, 0, 1, ..., 1, 0, 0])"
      ]
     },
     "execution_count": 53,
     "metadata": {},
     "output_type": "execute_result"
    }
   ],
   "source": [
    "prediction"
   ]
  },
  {
   "cell_type": "code",
   "execution_count": 54,
   "id": "b3fe047f",
   "metadata": {},
   "outputs": [
    {
     "data": {
      "text/plain": [
       "0.7135167373475352"
      ]
     },
     "execution_count": 54,
     "metadata": {},
     "output_type": "execute_result"
    }
   ],
   "source": [
    "from sklearn.metrics import roc_auc_score\n",
    "roc_auc_score(y_test, prediction)"
   ]
  },
  {
   "cell_type": "code",
   "execution_count": 55,
   "id": "4aa06ac6",
   "metadata": {},
   "outputs": [
    {
     "name": "stdout",
     "output_type": "stream",
     "text": [
      "Fitting 2 folds for each of 2 candidates, totalling 4 fits\n"
     ]
    },
    {
     "data": {
      "text/plain": [
       "GridSearchCV(cv=2,\n",
       "             estimator=XGBClassifier(base_score=None, booster=None,\n",
       "                                     callbacks=None, colsample_bylevel=None,\n",
       "                                     colsample_bynode=None,\n",
       "                                     colsample_bytree=0.8,\n",
       "                                     early_stopping_rounds=None,\n",
       "                                     enable_categorical=False, eval_metric=None,\n",
       "                                     gamma=None, gpu_id=None, grow_policy=None,\n",
       "                                     importance_type=None,\n",
       "                                     interaction_constraints=None,\n",
       "                                     learning_rate=0.1, max_bin=None,\n",
       "                                     max_cat_to_onehot=None,\n",
       "                                     max_delta_step=None, max_depth=4,\n",
       "                                     max_leaves=None, min_child_weight=None,\n",
       "                                     missing=nan, monotone_constraints=None,\n",
       "                                     n_estimators=140, n_jobs=None, nthread=4,\n",
       "                                     num_parallel_tree=None, predictor=None,\n",
       "                                     random_state=None, reg_alpha=None, ...),\n",
       "             n_jobs=4, param_grid={'min_child_weight': [6, 10]},\n",
       "             scoring='roc_auc', verbose=2)"
      ]
     },
     "execution_count": 55,
     "metadata": {},
     "output_type": "execute_result"
    }
   ],
   "source": [
    "param_test2b = {\n",
    "    'min_child_weight':[6,10],\n",
    "}\n",
    "\n",
    "\n",
    "gsearch2b = GridSearchCV(estimator = XGBClassifier( learning_rate=0.1, n_estimators=140, max_depth=4,\n",
    "                                                   subsample=0.8, colsample_bytree=0.8,objective= 'binary:logistic', \n",
    "                                                   nthread=4, scale_pos_weight=1,seed=27), param_grid = param_test2b, \n",
    "                         scoring='roc_auc',n_jobs=4, cv=2, verbose = 2)\n",
    "gsearch2b.fit(X_train,y_train)"
   ]
  },
  {
   "cell_type": "code",
   "execution_count": 56,
   "id": "edcb20be",
   "metadata": {},
   "outputs": [
    {
     "data": {
      "text/plain": [
       "XGBClassifier(base_score=0.5, booster='gbtree', callbacks=None,\n",
       "              colsample_bylevel=1, colsample_bynode=1, colsample_bytree=0.8,\n",
       "              early_stopping_rounds=None, enable_categorical=False,\n",
       "              eval_metric=None, gamma=0, gpu_id=-1, grow_policy='depthwise',\n",
       "              importance_type=None, interaction_constraints='',\n",
       "              learning_rate=0.1, max_bin=256, max_cat_to_onehot=4,\n",
       "              max_delta_step=0, max_depth=4, max_leaves=0, min_child_weight=10,\n",
       "              missing=nan, monotone_constraints='()', n_estimators=140,\n",
       "              n_jobs=4, nthread=4, num_parallel_tree=1, predictor='auto',\n",
       "              random_state=27, reg_alpha=0, ...)"
      ]
     },
     "execution_count": 56,
     "metadata": {},
     "output_type": "execute_result"
    }
   ],
   "source": [
    "gsearch2b.best_estimator_"
   ]
  },
  {
   "cell_type": "code",
   "execution_count": 57,
   "id": "1abca4c7",
   "metadata": {},
   "outputs": [
    {
     "data": {
      "text/plain": [
       "0.704072159462784"
      ]
     },
     "execution_count": 57,
     "metadata": {},
     "output_type": "execute_result"
    }
   ],
   "source": [
    "grid_search.best_score_"
   ]
  },
  {
   "cell_type": "code",
   "execution_count": 58,
   "id": "b0287780",
   "metadata": {
    "execution": {
     "iopub.execute_input": "2022-04-26T04:01:02.634574Z",
     "iopub.status.busy": "2022-04-26T04:01:02.634211Z",
     "iopub.status.idle": "2022-04-26T04:01:02.641192Z",
     "shell.execute_reply": "2022-04-26T04:01:02.640042Z",
     "shell.execute_reply.started": "2022-04-26T04:01:02.634535Z"
    }
   },
   "outputs": [],
   "source": [
    "xgb = XGBClassifier(learning_rate=0.1, n_estimators=140, max_depth=4,\n",
    "                    subsample=0.8, colsample_bytree=0.8,objective= 'binary:logistic', \n",
    "                    nthread=4, scale_pos_weight=1,seed=27, min_child_weight=10 )"
   ]
  },
  {
   "cell_type": "code",
   "execution_count": 59,
   "id": "54026cb9",
   "metadata": {},
   "outputs": [
    {
     "data": {
      "text/plain": [
       "0.7348359227200052"
      ]
     },
     "execution_count": 59,
     "metadata": {},
     "output_type": "execute_result"
    }
   ],
   "source": [
    "xgb.fit(X_train,y_train)\n",
    "prediction = xgb.predict(X_test)\n",
    "roc_auc_score(y_test, prediction)"
   ]
  },
  {
   "cell_type": "code",
   "execution_count": 61,
   "id": "fb1da38b",
   "metadata": {},
   "outputs": [],
   "source": [
    "prediction1  = xgb.predict(test)\n",
    "submission_xgb = submission_sample.copy()\n",
    "submission_xgb['Recidivism_Within_3years'] = prediction1"
   ]
  },
  {
   "cell_type": "code",
   "execution_count": 62,
   "id": "06e53121",
   "metadata": {},
   "outputs": [],
   "source": [
    "submission_xgb.to_csv(\"sumbission_xgb289.csv\", index = False)"
   ]
  },
  {
   "cell_type": "code",
   "execution_count": 63,
   "id": "7dbf79a3",
   "metadata": {},
   "outputs": [
    {
     "data": {
      "text/html": [
       "<div>\n",
       "<style scoped>\n",
       "    .dataframe tbody tr th:only-of-type {\n",
       "        vertical-align: middle;\n",
       "    }\n",
       "\n",
       "    .dataframe tbody tr th {\n",
       "        vertical-align: top;\n",
       "    }\n",
       "\n",
       "    .dataframe thead th {\n",
       "        text-align: right;\n",
       "    }\n",
       "</style>\n",
       "<table border=\"1\" class=\"dataframe\">\n",
       "  <thead>\n",
       "    <tr style=\"text-align: right;\">\n",
       "      <th></th>\n",
       "      <th>ID</th>\n",
       "      <th>Recidivism_Within_3years</th>\n",
       "    </tr>\n",
       "  </thead>\n",
       "  <tbody>\n",
       "    <tr>\n",
       "      <th>0</th>\n",
       "      <td>6</td>\n",
       "      <td>0</td>\n",
       "    </tr>\n",
       "    <tr>\n",
       "      <th>1</th>\n",
       "      <td>8</td>\n",
       "      <td>1</td>\n",
       "    </tr>\n",
       "    <tr>\n",
       "      <th>2</th>\n",
       "      <td>12</td>\n",
       "      <td>1</td>\n",
       "    </tr>\n",
       "    <tr>\n",
       "      <th>3</th>\n",
       "      <td>15</td>\n",
       "      <td>0</td>\n",
       "    </tr>\n",
       "    <tr>\n",
       "      <th>4</th>\n",
       "      <td>16</td>\n",
       "      <td>0</td>\n",
       "    </tr>\n",
       "    <tr>\n",
       "      <th>...</th>\n",
       "      <td>...</td>\n",
       "      <td>...</td>\n",
       "    </tr>\n",
       "    <tr>\n",
       "      <th>7802</th>\n",
       "      <td>26746</td>\n",
       "      <td>1</td>\n",
       "    </tr>\n",
       "    <tr>\n",
       "      <th>7803</th>\n",
       "      <td>26747</td>\n",
       "      <td>0</td>\n",
       "    </tr>\n",
       "    <tr>\n",
       "      <th>7804</th>\n",
       "      <td>26749</td>\n",
       "      <td>0</td>\n",
       "    </tr>\n",
       "    <tr>\n",
       "      <th>7805</th>\n",
       "      <td>26752</td>\n",
       "      <td>0</td>\n",
       "    </tr>\n",
       "    <tr>\n",
       "      <th>7806</th>\n",
       "      <td>26755</td>\n",
       "      <td>1</td>\n",
       "    </tr>\n",
       "  </tbody>\n",
       "</table>\n",
       "<p>7807 rows × 2 columns</p>\n",
       "</div>"
      ],
      "text/plain": [
       "         ID  Recidivism_Within_3years\n",
       "0         6                         0\n",
       "1         8                         1\n",
       "2        12                         1\n",
       "3        15                         0\n",
       "4        16                         0\n",
       "...     ...                       ...\n",
       "7802  26746                         1\n",
       "7803  26747                         0\n",
       "7804  26749                         0\n",
       "7805  26752                         0\n",
       "7806  26755                         1\n",
       "\n",
       "[7807 rows x 2 columns]"
      ]
     },
     "execution_count": 63,
     "metadata": {},
     "output_type": "execute_result"
    }
   ],
   "source": [
    "submission_xgb"
   ]
  },
  {
   "cell_type": "code",
   "execution_count": null,
   "id": "61c07cfd",
   "metadata": {},
   "outputs": [],
   "source": []
  }
 ],
 "metadata": {
  "kernelspec": {
   "display_name": "Python 3 (ipykernel)",
   "language": "python",
   "name": "python3"
  },
  "language_info": {
   "codemirror_mode": {
    "name": "ipython",
    "version": 3
   },
   "file_extension": ".py",
   "mimetype": "text/x-python",
   "name": "python",
   "nbconvert_exporter": "python",
   "pygments_lexer": "ipython3",
   "version": "3.9.7"
  }
 },
 "nbformat": 4,
 "nbformat_minor": 5
}
